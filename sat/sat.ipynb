{
 "cells": [
  {
   "cell_type": "code",
   "execution_count": 457,
   "id": "365469e8",
   "metadata": {},
   "outputs": [],
   "source": [
    "from itertools import combinations\n",
    "from z3 import *\n",
    "from utils import *\n",
    "import math\n",
    "from timeit import default_timer as timer"
   ]
  },
  {
   "cell_type": "markdown",
   "id": "75901e6e",
   "metadata": {},
   "source": [
    "### naive pairwise\n"
   ]
  },
  {
   "cell_type": "code",
   "execution_count": 458,
   "id": "3a04be61",
   "metadata": {},
   "outputs": [],
   "source": [
    "def at_least_one_np(bool_vars):\n",
    "    return Or(bool_vars)\n",
    "\n",
    "def at_most_one_np(bool_vars):\n",
    "    return [Not(And(pair[0], pair[1])) for pair in combinations(bool_vars, 2)]\n",
    "\n",
    "def exactly_one_np(bool_vars):\n",
    "    return And(at_least_one_np(bool_vars), And(at_most_one_np(bool_vars)))\n",
    "\n",
    "\n",
    "\n",
    "def at_least_k_np(bool_vars, k):\n",
    "    return at_most_k_np([Not(var) for var in bool_vars], len(bool_vars)-k)\n",
    "\n",
    "def at_most_k_np(bool_vars, k):\n",
    "    return And([Or([Not(x) for x in X]) for X in combinations(bool_vars, k + 1)])\n",
    "\n",
    "def exactly_k_np(bool_vars, k):\n",
    "    return And(at_most_k_np(bool_vars, k), at_least_k_np(bool_vars, k))"
   ]
  },
  {
   "cell_type": "markdown",
   "id": "bded82dc",
   "metadata": {},
   "source": [
    "### sequential"
   ]
  },
  {
   "cell_type": "code",
   "execution_count": 459,
   "id": "a6050d05",
   "metadata": {},
   "outputs": [],
   "source": [
    "def at_least_one_seq(bool_vars):\n",
    "    return at_least_one_np(bool_vars)\n",
    "\n",
    "def at_most_one_seq(bool_vars):\n",
    "    constraints = []\n",
    "    n = len(bool_vars)\n",
    "    s = [Bool(f\"s_{i}\") for i in range(n - 1)]\n",
    "    constraints.append(Or(Not(bool_vars[0]), s[0]))\n",
    "    constraints.append(Or(Not(bool_vars[n-1]), Not(s[n-2])))\n",
    "    for i in range(1, n - 1):\n",
    "        constraints.append(Or(Not(bool_vars[i]), s[i]))\n",
    "        constraints.append(Or(Not(bool_vars[i]), Not(s[i-1])))\n",
    "        constraints.append(Or(Not(s[i-1]), s[i]))\n",
    "    return And(constraints)\n",
    "\n",
    "def exactly_one_seq(bool_vars):\n",
    "    return And(at_least_one_seq(bool_vars), at_most_one_seq(bool_vars))\n",
    "\n",
    "\n",
    "\n",
    "def at_least_k_seq(bool_vars, k):\n",
    "    return at_most_k_seq([Not(var) for var in bool_vars], len(bool_vars)-k)\n",
    "\n",
    "def at_most_k_seq(bool_vars, k):\n",
    "    constraints = []\n",
    "    n = len(bool_vars)\n",
    "    s = [[Bool(f\"s_{i}_{j}\") for j in range(k)] for i in range(n - 1)]\n",
    "    constraints.append(Or(Not(bool_vars[0]), s[0][0]))\n",
    "    constraints += [Not(s[0][j]) for j in range(1, k)]\n",
    "    for i in range(1, n-1):\n",
    "        constraints.append(Or(Not(bool_vars[i]), s[i][0]))\n",
    "        constraints.append(Or(Not(s[i-1][0]), s[i][0]))\n",
    "        constraints.append(Or(Not(bool_vars[i]), Not(s[i-1][k-1])))\n",
    "        for j in range(1, k):\n",
    "            constraints.append(Or(Not(bool_vars[i]), Not(s[i-1][j-1]), s[i][j]))\n",
    "            constraints.append(Or(Not(s[i-1][j]), s[i][j]))\n",
    "    constraints.append(Or(Not(bool_vars[n-1]), Not(s[n-2][k-1])))   \n",
    "    return And(constraints)\n",
    "\n",
    "def exactly_k_seq(bool_vars, k):\n",
    "    return And(at_most_k_seq(bool_vars, k), at_least_k_seq(bool_vars, k))"
   ]
  },
  {
   "cell_type": "markdown",
   "id": "ec8bf6a2",
   "metadata": {},
   "source": [
    "### bitwise"
   ]
  },
  {
   "cell_type": "code",
   "execution_count": 460,
   "id": "bf6c5925",
   "metadata": {},
   "outputs": [],
   "source": [
    "def toBinary(num, length = None):\n",
    "    num_bin = bin(num).split(\"b\")[-1]\n",
    "    if length:\n",
    "        return \"0\"*(length - len(num_bin)) + num_bin\n",
    "    return num_bin\n",
    "    \n",
    "def at_least_one_bw(bool_vars):\n",
    "    return at_least_one_np(bool_vars)\n",
    "\n",
    "def at_most_one_bw(bool_vars):\n",
    "    constraints = []\n",
    "    n = len(bool_vars)\n",
    "    m = math.ceil(math.log2(n))\n",
    "    r = [Bool(f\"r_{i}\") for i in range(m)]\n",
    "    binaries = [toBinary(i, m) for i in range(n)]\n",
    "    for i in range(n):\n",
    "        for j in range(m):\n",
    "            phi = Not(r[j])\n",
    "            if binaries[i][j] == \"1\":\n",
    "                phi = r[j]\n",
    "            constraints.append(Or(Not(bool_vars[i]), phi))        \n",
    "    return And(constraints)\n",
    "\n",
    "def exactly_one_bw(bool_vars):\n",
    "    return And(at_least_one_bw(bool_vars), at_most_one_bw(bool_vars)) "
   ]
  },
  {
   "cell_type": "markdown",
   "id": "a07f28cb",
   "metadata": {},
   "source": [
    "### heule"
   ]
  },
  {
   "cell_type": "code",
   "execution_count": 461,
   "id": "0768baab",
   "metadata": {},
   "outputs": [],
   "source": [
    "def at_least_one_he(bool_vars):\n",
    "    return at_least_one_np(bool_vars)\n",
    "\n",
    "def at_most_one_he(bool_vars):\n",
    "    if len(bool_vars) <= 4:\n",
    "        return And(at_most_one_np(bool_vars))\n",
    "    y = Bool(f\"y\")\n",
    "    return And(And(at_most_one_np(bool_vars[:3] + [y])), And(at_most_one_he(bool_vars[3:] + [Not(y)])))\n",
    "\n",
    "def exactly_one_he(bool_vars):\n",
    "    return And(at_most_one_he(bool_vars), at_least_one_he(bool_vars))"
   ]
  },
  {
   "cell_type": "markdown",
   "id": "846847b8",
   "metadata": {},
   "source": [
    "# Model"
   ]
  },
  {
   "cell_type": "markdown",
   "id": "ded84d29",
   "metadata": {},
   "source": [
    "#### get the data"
   ]
  },
  {
   "cell_type": "code",
   "execution_count": 462,
   "id": "9fc97335",
   "metadata": {},
   "outputs": [
    {
     "name": "stdout",
     "output_type": "stream",
     "text": [
      "17 12 [3, 3, 3, 3, 3, 3, 3, 4, 4, 4, 7, 7] [3, 4, 5, 6, 7, 8, 9, 3, 8, 14, 3, 6] 76\n",
      "9\n"
     ]
    }
   ],
   "source": [
    "def read_file(in_file):\n",
    "    f = open(in_file, \"r\")\n",
    "    lines = f.read().splitlines()\n",
    "    \n",
    "    w = int(lines[0])\n",
    "    n = int(lines[1])\n",
    "    \n",
    "    x = []\n",
    "    y = []\n",
    "    for i in range(int(n)):\n",
    "            split = lines[i + 2].split(' ')\n",
    "            x.append(int(split[0]))\n",
    "            y.append(int(split[1]))\n",
    "            \n",
    "    maxlen = sum(y)\n",
    "    return w, n, x, y, maxlen\n",
    "\n",
    "w, n, x, y, maxlen = read_file(\".\\instances\\ins-10.txt\")\n",
    "\n",
    "print(w,n,x,y,maxlen)\n",
    "\n",
    "biggest_silicon = 0\n",
    "for k in range(n):\n",
    "    if x[biggest_silicon]*y[biggest_silicon] < x[k]*y[k]:\n",
    "        biggest_silicon = k\n",
    "print(biggest_silicon)"
   ]
  },
  {
   "cell_type": "markdown",
   "id": "48255048",
   "metadata": {},
   "source": [
    "#### define the variables"
   ]
  },
  {
   "cell_type": "code",
   "execution_count": 463,
   "id": "7b6f38ae",
   "metadata": {},
   "outputs": [],
   "source": [
    "solution = [[[Bool(f\"solution_{i}_{j}_{k}\") for k in range(n)] for j in range(maxlen)] for i in range(w)]   \n",
    "#k is the number of the silicon\n",
    "#i is the possible positions in w\n",
    "#j is the possible positions in l"
   ]
  },
  {
   "cell_type": "markdown",
   "id": "139b51ab",
   "metadata": {},
   "source": [
    "#### choice of the method"
   ]
  },
  {
   "cell_type": "code",
   "execution_count": 464,
   "id": "7d141d9c",
   "metadata": {},
   "outputs": [],
   "source": [
    "def at_least_one(bool_vars):\n",
    "    return Or(bool_vars)\n",
    "\n",
    "def at_most_one(bool_vars):\n",
    "    return [Not(And(pair[0], pair[1])) for pair in combinations(bool_vars, 2)]\n",
    "\n",
    "def exactly_one(bool_vars):\n",
    "    return at_most_one(bool_vars) + [at_least_one(bool_vars)]"
   ]
  },
  {
   "cell_type": "markdown",
   "id": "5872cf37",
   "metadata": {},
   "source": [
    "#### constraints"
   ]
  },
  {
   "cell_type": "code",
   "execution_count": 465,
   "id": "1f42e601",
   "metadata": {},
   "outputs": [],
   "source": [
    "def solve_problem(w,n,x,y,maxlen,l):\n",
    "    start = timer()\n",
    "    \n",
    "    solved = False\n",
    "    while l<=maxlen and solved==False:\n",
    "        s = Solver()\n",
    "        #no overlapping\n",
    "        for j in range(l):\n",
    "            for i in range(w):\n",
    "                s.add(at_most_one([solution[i][j][k] for k in range(n)]))\n",
    "\n",
    "        #makes sure silicons fit            \n",
    "        for k in range(n):\n",
    "            possible_sols = []\n",
    "            for i in range(w-x[k]+1):\n",
    "                for j in range(l-y[k]+1):\n",
    "                    circuit = []\n",
    "                    for ox in range(w):\n",
    "                        for oy in range(l):\n",
    "                            if i<=ox<i+x[k] and j<=oy<j+y[k]:\n",
    "                                circuit.append(solution[ox][oy][k])\n",
    "                            else:\n",
    "                                circuit.append(Not(solution[ox][oy][k]))\n",
    "                    possible_sols.append(And(circuit))\n",
    "            s.add(exactly_one(possible_sols))\n",
    "            \n",
    "        #puts the silicon with larger area in the bottom left corner    \n",
    "        s.add([And(solution[0][0][biggest_silicon])])\n",
    "\n",
    "        if s.check() == sat:\n",
    "            time = timer() - start\n",
    "            print(\"model solved with length:\", l, \"in time: \", time, \"s\")\n",
    "            print(s.model())\n",
    "            solved = True\n",
    "        else:\n",
    "            print(\"Failed to solve with length: \", l)\n",
    "            l = l+1   \n",
    "    return s.model(), l"
   ]
  },
  {
   "cell_type": "code",
   "execution_count": 466,
   "id": "b8ca26aa",
   "metadata": {},
   "outputs": [
    {
     "name": "stdout",
     "output_type": "stream",
     "text": [
      "Failed to solve with length:  3\n",
      "Failed to solve with length:  4\n",
      "Failed to solve with length:  5\n",
      "Failed to solve with length:  6\n",
      "Failed to solve with length:  7\n",
      "Failed to solve with length:  8\n",
      "Failed to solve with length:  9\n",
      "Failed to solve with length:  10\n",
      "Failed to solve with length:  11\n",
      "Failed to solve with length:  12\n",
      "Failed to solve with length:  13\n",
      "Failed to solve with length:  14\n",
      "Failed to solve with length:  15\n",
      "Failed to solve with length:  16\n",
      "model solved with length: 17 in time:  241.29964450000261 s\n",
      "[solution_13_14_1 = False,\n",
      " solution_14_13_3 = False,\n",
      " solution_1_9_7 = False,\n",
      " solution_16_2_3 = False,\n",
      " solution_3_2_0 = False,\n",
      " solution_0_5_6 = False,\n",
      " solution_5_14_6 = False,\n",
      " solution_16_14_7 = False,\n",
      " solution_5_2_10 = False,\n",
      " solution_13_15_11 = False,\n",
      " solution_13_2_0 = False,\n",
      " solution_14_0_5 = False,\n",
      " solution_7_1_2 = False,\n",
      " solution_0_0_2 = False,\n",
      " solution_15_2_3 = False,\n",
      " solution_9_12_1 = False,\n",
      " solution_12_16_8 = False,\n",
      " solution_1_12_11 = False,\n",
      " solution_0_15_4 = False,\n",
      " solution_0_16_1 = False,\n",
      " solution_4_6_7 = False,\n",
      " solution_3_7_7 = False,\n",
      " solution_11_4_7 = False,\n",
      " solution_0_6_11 = False,\n",
      " solution_10_0_7 = False,\n",
      " solution_2_3_1 = False,\n",
      " solution_16_10_10 = False,\n",
      " solution_15_14_3 = False,\n",
      " solution_2_4_6 = False,\n",
      " solution_11_1_5 = False,\n",
      " solution_11_9_8 = False,\n",
      " solution_16_0_10 = False,\n",
      " solution_9_1_1 = False,\n",
      " solution_6_7_8 = False,\n",
      " solution_2_10_4 = False,\n",
      " solution_4_0_3 = False,\n",
      " solution_14_10_11 = False,\n",
      " solution_3_6_1 = False,\n",
      " solution_7_8_10 = False,\n",
      " solution_0_4_0 = False,\n",
      " solution_5_8_6 = True,\n",
      " solution_1_13_4 = False,\n",
      " solution_1_16_1 = False,\n",
      " solution_1_4_0 = False,\n",
      " solution_0_13_7 = False,\n",
      " solution_2_3_5 = False,\n",
      " solution_15_3_3 = False,\n",
      " solution_1_16_8 = False,\n",
      " solution_8_2_8 = False,\n",
      " solution_15_3_1 = False,\n",
      " solution_6_12_2 = False,\n",
      " solution_5_5_9 = False,\n",
      " solution_5_6_7 = False,\n",
      " solution_11_9_2 = False,\n",
      " solution_12_5_0 = False,\n",
      " solution_8_1_5 = False,\n",
      " solution_6_5_8 = False,\n",
      " solution_14_0_3 = False,\n",
      " solution_2_5_4 = False,\n",
      " solution_15_16_7 = False,\n",
      " solution_3_8_4 = False,\n",
      " solution_3_16_1 = False,\n",
      " solution_14_9_8 = False,\n",
      " solution_3_3_2 = False,\n",
      " solution_7_2_4 = False,\n",
      " solution_4_10_5 = False,\n",
      " solution_5_2_3 = False,\n",
      " solution_6_6_9 = False,\n",
      " solution_7_13_1 = False,\n",
      " solution_11_9_10 = False,\n",
      " solution_0_10_3 = False,\n",
      " solution_13_0_6 = False,\n",
      " solution_10_4_4 = False,\n",
      " solution_5_10_11 = False,\n",
      " solution_9_12_10 = False,\n",
      " solution_12_10_10 = False,\n",
      " solution_9_12_0 = False,\n",
      " solution_2_1_2 = False,\n",
      " solution_13_15_5 = False,\n",
      " solution_0_15_10 = True,\n",
      " solution_15_10_4 = True,\n",
      " solution_15_13_3 = False,\n",
      " solution_14_12_9 = False,\n",
      " solution_5_4_3 = False,\n",
      " solution_16_3_0 = False,\n",
      " solution_12_1_7 = False,\n",
      " solution_3_5_1 = False,\n",
      " solution_16_12_9 = False,\n",
      " solution_3_3_10 = False,\n",
      " solution_0_16_7 = False,\n",
      " solution_15_14_5 = False,\n",
      " solution_1_6_3 = False,\n",
      " solution_16_2_11 = True,\n",
      " solution_4_2_0 = False,\n",
      " solution_0_0_11 = False,\n",
      " solution_5_3_9 = False,\n",
      " solution_13_10_9 = False,\n",
      " solution_3_11_10 = False,\n",
      " solution_1_7_5 = False,\n",
      " solution_15_9_2 = False,\n",
      " solution_12_16_7 = True,\n",
      " solution_1_9_3 = False,\n",
      " solution_7_0_0 = False,\n",
      " solution_4_7_4 = False,\n",
      " solution_7_5_11 = False,\n",
      " solution_5_6_6 = True,\n",
      " solution_2_8_8 = False,\n",
      " solution_15_2_7 = False,\n",
      " solution_14_4_7 = False,\n",
      " solution_12_5_7 = False,\n",
      " solution_4_1_3 = False,\n",
      " solution_11_6_7 = False,\n",
      " solution_2_16_11 = False,\n",
      " solution_13_4_10 = False,\n",
      " solution_9_3_3 = True,\n",
      " solution_7_7_3 = False,\n",
      " solution_5_0_11 = False,\n",
      " solution_12_0_7 = False,\n",
      " solution_1_12_0 = False,\n",
      " solution_7_4_10 = False,\n",
      " solution_2_0_0 = False,\n",
      " solution_15_12_10 = False,\n",
      " solution_11_4_3 = False,\n",
      " solution_11_3_3 = False,\n",
      " solution_13_14_9 = False,\n",
      " solution_0_7_9 = True,\n",
      " solution_2_7_3 = False,\n",
      " solution_4_9_9 = False,\n",
      " solution_9_1_4 = False,\n",
      " ...]\n",
      "Wall time: 4min 1s\n"
     ]
    }
   ],
   "source": [
    "%%time\n",
    "l = min(y)\n",
    "model, l = solve_problem(w,n,x,y,maxlen,l)"
   ]
  },
  {
   "cell_type": "code",
   "execution_count": 467,
   "id": "498fb048",
   "metadata": {},
   "outputs": [],
   "source": [
    "def get_solution(model, solution, w, l, n, r=None):\n",
    "    # Create solution array\n",
    "    solution = np.array([[[is_true(model[solution[i][j][k]]) for k in range(n)] for j in range(maxlen)] for i in range(w)])\n",
    "    p_x_sol = []\n",
    "    p_y_sol = []\n",
    "    rot_sol = [False for i in range(n)]\n",
    "\n",
    "    for k in range(n):\n",
    "        x_ids, y_ids = solution[:, :, k].nonzero()\n",
    "        x = np.min(x_ids)\n",
    "        y = np.min(y_ids)\n",
    "        p_x_sol.append(x)\n",
    "        p_y_sol.append(y)\n",
    "        if r is not None:\n",
    "            rot_sol[k] = is_true(model[r[k]])\n",
    "    return p_x_sol, p_y_sol, rot_sol, l"
   ]
  },
  {
   "cell_type": "code",
   "execution_count": 468,
   "id": "46ec3e7b",
   "metadata": {
    "scrolled": true
   },
   "outputs": [
    {
     "data": {
      "text/plain": [
       "([7, 14, 4, 7, 14, 11, 4, 10, 7, 0, 0, 10],\n",
       " [14, 6, 0, 0, 10, 6, 5, 14, 6, 0, 14, 0],\n",
       " [False,\n",
       "  False,\n",
       "  False,\n",
       "  False,\n",
       "  False,\n",
       "  False,\n",
       "  False,\n",
       "  False,\n",
       "  False,\n",
       "  False,\n",
       "  False,\n",
       "  False],\n",
       " 17)"
      ]
     },
     "execution_count": 468,
     "metadata": {},
     "output_type": "execute_result"
    }
   ],
   "source": [
    "get_solution(model, solution, w, l, n, r=None)"
   ]
  },
  {
   "cell_type": "code",
   "execution_count": null,
   "id": "cc13bb84",
   "metadata": {},
   "outputs": [],
   "source": []
  }
 ],
 "metadata": {
  "kernelspec": {
   "display_name": "Python 3 (ipykernel)",
   "language": "python",
   "name": "python3"
  },
  "language_info": {
   "codemirror_mode": {
    "name": "ipython",
    "version": 3
   },
   "file_extension": ".py",
   "mimetype": "text/x-python",
   "name": "python",
   "nbconvert_exporter": "python",
   "pygments_lexer": "ipython3",
   "version": "3.8.8"
  }
 },
 "nbformat": 4,
 "nbformat_minor": 5
}
